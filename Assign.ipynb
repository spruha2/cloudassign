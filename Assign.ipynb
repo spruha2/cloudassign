{
 "cells": [
  {
   "cell_type": "markdown",
   "id": "fd2d2e89",
   "metadata": {},
   "source": [
    "# Performance evaluation of Terapixel rendering in Cloud (Super)computing"
   ]
  },
  {
   "cell_type": "raw",
   "id": "7af815fd",
   "metadata": {},
   "source": [
    "Lets start with importing all the important libraries that are required for execution during analysis."
   ]
  },
  {
   "cell_type": "code",
   "execution_count": 1,
   "id": "c78ef9f4",
   "metadata": {},
   "outputs": [],
   "source": [
    "# Importing Important Library\n",
    "\n",
    "import re\n",
    "import numpy as np\n",
    "import pandas as pd\n",
    "import nltk\n",
    "\n",
    "import seaborn as sns\n",
    "import matplotlib.pyplot as plt\n",
    "import matplotlib\n",
    "matplotlib.style.use('ggplot')\n",
    "\n",
    "from sklearn.preprocessing import StandardScaler"
   ]
  },
  {
   "cell_type": "raw",
   "id": "6b26d00e",
   "metadata": {},
   "source": [
    "Now since all the libraries are imported, lets import the dataset which is present in 3 CSV files."
   ]
  },
  {
   "cell_type": "code",
   "execution_count": 2,
   "id": "792bf0d6",
   "metadata": {},
   "outputs": [],
   "source": [
    "# Loading Data\n",
    "\n",
    "gpu = pd.read_csv('GPU.csv')\n",
    "xy = pd.read_csv('Task-x-y.csv')\n",
    "ac = pd.read_csv('Application-checkpoints.csv')\n"
   ]
  },
  {
   "cell_type": "raw",
   "id": "db9aa70b",
   "metadata": {},
   "source": [
    "Since now all the three data files are loaded into three different data frames. Lets explore each data structure of the data frames."
   ]
  },
  {
   "cell_type": "code",
   "execution_count": 3,
   "id": "dee27ef5",
   "metadata": {},
   "outputs": [
    {
     "name": "stdout",
     "output_type": "stream",
     "text": [
      "Shape of GPU : (1543681, 8)\n",
      "Shape of Task-x-y : (65793, 5)\n",
      "Shape of Application-checkpoints : (660400, 6)\n"
     ]
    }
   ],
   "source": [
    "# Shape of the data frame \n",
    "\n",
    "print(f\"Shape of GPU : {gpu.shape}\")\n",
    "print(f\"Shape of Task-x-y : {xy.shape}\")\n",
    "print(f\"Shape of Application-checkpoints : {ac.shape}\")"
   ]
  },
  {
   "cell_type": "code",
   "execution_count": 4,
   "id": "8a141987",
   "metadata": {},
   "outputs": [
    {
     "name": "stdout",
     "output_type": "stream",
     "text": [
      "<class 'pandas.core.frame.DataFrame'>\n",
      "RangeIndex: 1543681 entries, 0 to 1543680\n",
      "Data columns (total 8 columns):\n",
      " #   Column          Non-Null Count    Dtype  \n",
      "---  ------          --------------    -----  \n",
      " 0   timestamp       1543681 non-null  object \n",
      " 1   hostname        1543681 non-null  object \n",
      " 2   gpuSerial       1543681 non-null  int64  \n",
      " 3   gpuUUID         1543681 non-null  object \n",
      " 4   powerDrawWatt   1543681 non-null  float64\n",
      " 5   gpuTempC        1543681 non-null  int64  \n",
      " 6   gpuUtilPerc     1543681 non-null  int64  \n",
      " 7   gpuMemUtilPerc  1543681 non-null  int64  \n",
      "dtypes: float64(1), int64(4), object(3)\n",
      "memory usage: 94.2+ MB\n",
      "None\n",
      "<class 'pandas.core.frame.DataFrame'>\n",
      "RangeIndex: 65793 entries, 0 to 65792\n",
      "Data columns (total 5 columns):\n",
      " #   Column  Non-Null Count  Dtype \n",
      "---  ------  --------------  ----- \n",
      " 0   taskId  65793 non-null  object\n",
      " 1   jobId   65793 non-null  object\n",
      " 2   x       65793 non-null  int64 \n",
      " 3   y       65793 non-null  int64 \n",
      " 4   level   65793 non-null  int64 \n",
      "dtypes: int64(3), object(2)\n",
      "memory usage: 2.5+ MB\n",
      "None\n",
      "<class 'pandas.core.frame.DataFrame'>\n",
      "RangeIndex: 660400 entries, 0 to 660399\n",
      "Data columns (total 6 columns):\n",
      " #   Column     Non-Null Count   Dtype \n",
      "---  ------     --------------   ----- \n",
      " 0   timestamp  660400 non-null  object\n",
      " 1   hostname   660400 non-null  object\n",
      " 2   eventName  660400 non-null  object\n",
      " 3   eventType  660400 non-null  object\n",
      " 4   jobId      660400 non-null  object\n",
      " 5   taskId     660400 non-null  object\n",
      "dtypes: object(6)\n",
      "memory usage: 30.2+ MB\n",
      "None\n"
     ]
    }
   ],
   "source": [
    "# Summary structure of each column of each data frame\n",
    "\n",
    "print(gpu.info())\n",
    "print(xy.info())\n",
    "print(ac.info())"
   ]
  },
  {
   "cell_type": "code",
   "execution_count": 5,
   "id": "50acbcbb",
   "metadata": {
    "scrolled": true
   },
   "outputs": [
    {
     "name": "stdout",
     "output_type": "stream",
     "text": [
      "------------ GPU ----------------\n"
     ]
    },
    {
     "data": {
      "text/html": [
       "<div>\n",
       "<style scoped>\n",
       "    .dataframe tbody tr th:only-of-type {\n",
       "        vertical-align: middle;\n",
       "    }\n",
       "\n",
       "    .dataframe tbody tr th {\n",
       "        vertical-align: top;\n",
       "    }\n",
       "\n",
       "    .dataframe thead th {\n",
       "        text-align: right;\n",
       "    }\n",
       "</style>\n",
       "<table border=\"1\" class=\"dataframe\">\n",
       "  <thead>\n",
       "    <tr style=\"text-align: right;\">\n",
       "      <th></th>\n",
       "      <th>timestamp</th>\n",
       "      <th>hostname</th>\n",
       "      <th>gpuSerial</th>\n",
       "      <th>gpuUUID</th>\n",
       "      <th>powerDrawWatt</th>\n",
       "      <th>gpuTempC</th>\n",
       "      <th>gpuUtilPerc</th>\n",
       "      <th>gpuMemUtilPerc</th>\n",
       "    </tr>\n",
       "  </thead>\n",
       "  <tbody>\n",
       "    <tr>\n",
       "      <th>0</th>\n",
       "      <td>2018-11-08T08:27:10.314Z</td>\n",
       "      <td>8b6a0eebc87b4cb2b0539e81075191b900001C</td>\n",
       "      <td>323217055910</td>\n",
       "      <td>GPU-1d1602dc-f615-a7c7-ab53-fb4a7a479534</td>\n",
       "      <td>131.55</td>\n",
       "      <td>48</td>\n",
       "      <td>92</td>\n",
       "      <td>53</td>\n",
       "    </tr>\n",
       "    <tr>\n",
       "      <th>1</th>\n",
       "      <td>2018-11-08T08:27:10.192Z</td>\n",
       "      <td>d8241877cd994572b46c861e5d144c85000000</td>\n",
       "      <td>323617020295</td>\n",
       "      <td>GPU-04a2dea7-f4f1-12d0-b94d-996446746e6f</td>\n",
       "      <td>117.03</td>\n",
       "      <td>40</td>\n",
       "      <td>92</td>\n",
       "      <td>48</td>\n",
       "    </tr>\n",
       "    <tr>\n",
       "      <th>2</th>\n",
       "      <td>2018-11-08T08:27:10.842Z</td>\n",
       "      <td>db871cd77a544e13bc791a64a0c8ed50000006</td>\n",
       "      <td>323217056562</td>\n",
       "      <td>GPU-f4597939-a0b4-e78a-2436-12dbab9a350f</td>\n",
       "      <td>121.64</td>\n",
       "      <td>45</td>\n",
       "      <td>91</td>\n",
       "      <td>44</td>\n",
       "    </tr>\n",
       "    <tr>\n",
       "      <th>3</th>\n",
       "      <td>2018-11-08T08:27:10.424Z</td>\n",
       "      <td>b9a1fa7ae2f74eb68f25f607980f97d7000010</td>\n",
       "      <td>325217085931</td>\n",
       "      <td>GPU-ad773c69-c386-a4be-b214-1ea4fc6045df</td>\n",
       "      <td>50.23</td>\n",
       "      <td>38</td>\n",
       "      <td>90</td>\n",
       "      <td>43</td>\n",
       "    </tr>\n",
       "    <tr>\n",
       "      <th>4</th>\n",
       "      <td>2018-11-08T08:27:10.937Z</td>\n",
       "      <td>db871cd77a544e13bc791a64a0c8ed50000003</td>\n",
       "      <td>323217056464</td>\n",
       "      <td>GPU-2d4eed64-4ca8-f12c-24bc-28f036493ea2</td>\n",
       "      <td>141.82</td>\n",
       "      <td>41</td>\n",
       "      <td>90</td>\n",
       "      <td>47</td>\n",
       "    </tr>\n",
       "  </tbody>\n",
       "</table>\n",
       "</div>"
      ],
      "text/plain": [
       "                  timestamp                                hostname  \\\n",
       "0  2018-11-08T08:27:10.314Z  8b6a0eebc87b4cb2b0539e81075191b900001C   \n",
       "1  2018-11-08T08:27:10.192Z  d8241877cd994572b46c861e5d144c85000000   \n",
       "2  2018-11-08T08:27:10.842Z  db871cd77a544e13bc791a64a0c8ed50000006   \n",
       "3  2018-11-08T08:27:10.424Z  b9a1fa7ae2f74eb68f25f607980f97d7000010   \n",
       "4  2018-11-08T08:27:10.937Z  db871cd77a544e13bc791a64a0c8ed50000003   \n",
       "\n",
       "      gpuSerial                                   gpuUUID  powerDrawWatt  \\\n",
       "0  323217055910  GPU-1d1602dc-f615-a7c7-ab53-fb4a7a479534         131.55   \n",
       "1  323617020295  GPU-04a2dea7-f4f1-12d0-b94d-996446746e6f         117.03   \n",
       "2  323217056562  GPU-f4597939-a0b4-e78a-2436-12dbab9a350f         121.64   \n",
       "3  325217085931  GPU-ad773c69-c386-a4be-b214-1ea4fc6045df          50.23   \n",
       "4  323217056464  GPU-2d4eed64-4ca8-f12c-24bc-28f036493ea2         141.82   \n",
       "\n",
       "   gpuTempC  gpuUtilPerc  gpuMemUtilPerc  \n",
       "0        48           92              53  \n",
       "1        40           92              48  \n",
       "2        45           91              44  \n",
       "3        38           90              43  \n",
       "4        41           90              47  "
      ]
     },
     "execution_count": 5,
     "metadata": {},
     "output_type": "execute_result"
    }
   ],
   "source": [
    "print(\"------------ GPU ----------------\")\n",
    "gpu.head()"
   ]
  },
  {
   "cell_type": "code",
   "execution_count": 6,
   "id": "938c55d1",
   "metadata": {},
   "outputs": [
    {
     "name": "stdout",
     "output_type": "stream",
     "text": [
      "------------ task-x-y ----------------\n"
     ]
    },
    {
     "data": {
      "text/html": [
       "<div>\n",
       "<style scoped>\n",
       "    .dataframe tbody tr th:only-of-type {\n",
       "        vertical-align: middle;\n",
       "    }\n",
       "\n",
       "    .dataframe tbody tr th {\n",
       "        vertical-align: top;\n",
       "    }\n",
       "\n",
       "    .dataframe thead th {\n",
       "        text-align: right;\n",
       "    }\n",
       "</style>\n",
       "<table border=\"1\" class=\"dataframe\">\n",
       "  <thead>\n",
       "    <tr style=\"text-align: right;\">\n",
       "      <th></th>\n",
       "      <th>taskId</th>\n",
       "      <th>jobId</th>\n",
       "      <th>x</th>\n",
       "      <th>y</th>\n",
       "      <th>level</th>\n",
       "    </tr>\n",
       "  </thead>\n",
       "  <tbody>\n",
       "    <tr>\n",
       "      <th>0</th>\n",
       "      <td>00004e77-304c-4fbd-88a1-1346ef947567</td>\n",
       "      <td>1024-lvl12-7e026be3-5fd0-48ee-b7d1-abd61f747705</td>\n",
       "      <td>116</td>\n",
       "      <td>178</td>\n",
       "      <td>12</td>\n",
       "    </tr>\n",
       "    <tr>\n",
       "      <th>1</th>\n",
       "      <td>0002afb5-d05e-4da9-bd53-7b6dc19ea6d4</td>\n",
       "      <td>1024-lvl12-7e026be3-5fd0-48ee-b7d1-abd61f747705</td>\n",
       "      <td>142</td>\n",
       "      <td>190</td>\n",
       "      <td>12</td>\n",
       "    </tr>\n",
       "    <tr>\n",
       "      <th>2</th>\n",
       "      <td>0003c380-4db9-49fb-8e1c-6f8ae466ad85</td>\n",
       "      <td>1024-lvl12-7e026be3-5fd0-48ee-b7d1-abd61f747705</td>\n",
       "      <td>142</td>\n",
       "      <td>86</td>\n",
       "      <td>12</td>\n",
       "    </tr>\n",
       "    <tr>\n",
       "      <th>3</th>\n",
       "      <td>000993b6-fc88-489d-a4ca-0a44fd800bd3</td>\n",
       "      <td>1024-lvl12-7e026be3-5fd0-48ee-b7d1-abd61f747705</td>\n",
       "      <td>235</td>\n",
       "      <td>11</td>\n",
       "      <td>12</td>\n",
       "    </tr>\n",
       "    <tr>\n",
       "      <th>4</th>\n",
       "      <td>000b158b-0ba3-4dca-bf5b-1b3bd5c28207</td>\n",
       "      <td>1024-lvl12-7e026be3-5fd0-48ee-b7d1-abd61f747705</td>\n",
       "      <td>171</td>\n",
       "      <td>53</td>\n",
       "      <td>12</td>\n",
       "    </tr>\n",
       "  </tbody>\n",
       "</table>\n",
       "</div>"
      ],
      "text/plain": [
       "                                 taskId  \\\n",
       "0  00004e77-304c-4fbd-88a1-1346ef947567   \n",
       "1  0002afb5-d05e-4da9-bd53-7b6dc19ea6d4   \n",
       "2  0003c380-4db9-49fb-8e1c-6f8ae466ad85   \n",
       "3  000993b6-fc88-489d-a4ca-0a44fd800bd3   \n",
       "4  000b158b-0ba3-4dca-bf5b-1b3bd5c28207   \n",
       "\n",
       "                                             jobId    x    y  level  \n",
       "0  1024-lvl12-7e026be3-5fd0-48ee-b7d1-abd61f747705  116  178     12  \n",
       "1  1024-lvl12-7e026be3-5fd0-48ee-b7d1-abd61f747705  142  190     12  \n",
       "2  1024-lvl12-7e026be3-5fd0-48ee-b7d1-abd61f747705  142   86     12  \n",
       "3  1024-lvl12-7e026be3-5fd0-48ee-b7d1-abd61f747705  235   11     12  \n",
       "4  1024-lvl12-7e026be3-5fd0-48ee-b7d1-abd61f747705  171   53     12  "
      ]
     },
     "execution_count": 6,
     "metadata": {},
     "output_type": "execute_result"
    }
   ],
   "source": [
    "print(\"------------ task-x-y ----------------\")\n",
    "xy.head()"
   ]
  },
  {
   "cell_type": "code",
   "execution_count": 7,
   "id": "eb483bec",
   "metadata": {},
   "outputs": [
    {
     "name": "stdout",
     "output_type": "stream",
     "text": [
      "------------ ac ----------------\n"
     ]
    },
    {
     "data": {
      "text/html": [
       "<div>\n",
       "<style scoped>\n",
       "    .dataframe tbody tr th:only-of-type {\n",
       "        vertical-align: middle;\n",
       "    }\n",
       "\n",
       "    .dataframe tbody tr th {\n",
       "        vertical-align: top;\n",
       "    }\n",
       "\n",
       "    .dataframe thead th {\n",
       "        text-align: right;\n",
       "    }\n",
       "</style>\n",
       "<table border=\"1\" class=\"dataframe\">\n",
       "  <thead>\n",
       "    <tr style=\"text-align: right;\">\n",
       "      <th></th>\n",
       "      <th>timestamp</th>\n",
       "      <th>hostname</th>\n",
       "      <th>eventName</th>\n",
       "      <th>eventType</th>\n",
       "      <th>jobId</th>\n",
       "      <th>taskId</th>\n",
       "    </tr>\n",
       "  </thead>\n",
       "  <tbody>\n",
       "    <tr>\n",
       "      <th>0</th>\n",
       "      <td>2018-11-08T07:41:55.921Z</td>\n",
       "      <td>0d56a730076643d585f77e00d2d8521a00000N</td>\n",
       "      <td>Tiling</td>\n",
       "      <td>STOP</td>\n",
       "      <td>1024-lvl12-7e026be3-5fd0-48ee-b7d1-abd61f747705</td>\n",
       "      <td>b47f0263-ba1c-48a7-8d29-4bf021b72043</td>\n",
       "    </tr>\n",
       "    <tr>\n",
       "      <th>1</th>\n",
       "      <td>2018-11-08T07:42:29.842Z</td>\n",
       "      <td>0d56a730076643d585f77e00d2d8521a00000N</td>\n",
       "      <td>Saving Config</td>\n",
       "      <td>START</td>\n",
       "      <td>1024-lvl12-7e026be3-5fd0-48ee-b7d1-abd61f747705</td>\n",
       "      <td>20fb9fcf-a927-4a4b-a64c-70258b66b42d</td>\n",
       "    </tr>\n",
       "    <tr>\n",
       "      <th>2</th>\n",
       "      <td>2018-11-08T07:42:29.845Z</td>\n",
       "      <td>0d56a730076643d585f77e00d2d8521a00000N</td>\n",
       "      <td>Saving Config</td>\n",
       "      <td>STOP</td>\n",
       "      <td>1024-lvl12-7e026be3-5fd0-48ee-b7d1-abd61f747705</td>\n",
       "      <td>20fb9fcf-a927-4a4b-a64c-70258b66b42d</td>\n",
       "    </tr>\n",
       "    <tr>\n",
       "      <th>3</th>\n",
       "      <td>2018-11-08T07:42:29.845Z</td>\n",
       "      <td>0d56a730076643d585f77e00d2d8521a00000N</td>\n",
       "      <td>Render</td>\n",
       "      <td>START</td>\n",
       "      <td>1024-lvl12-7e026be3-5fd0-48ee-b7d1-abd61f747705</td>\n",
       "      <td>20fb9fcf-a927-4a4b-a64c-70258b66b42d</td>\n",
       "    </tr>\n",
       "    <tr>\n",
       "      <th>4</th>\n",
       "      <td>2018-11-08T07:43:13.957Z</td>\n",
       "      <td>0d56a730076643d585f77e00d2d8521a00000N</td>\n",
       "      <td>TotalRender</td>\n",
       "      <td>STOP</td>\n",
       "      <td>1024-lvl12-7e026be3-5fd0-48ee-b7d1-abd61f747705</td>\n",
       "      <td>20fb9fcf-a927-4a4b-a64c-70258b66b42d</td>\n",
       "    </tr>\n",
       "  </tbody>\n",
       "</table>\n",
       "</div>"
      ],
      "text/plain": [
       "                  timestamp                                hostname  \\\n",
       "0  2018-11-08T07:41:55.921Z  0d56a730076643d585f77e00d2d8521a00000N   \n",
       "1  2018-11-08T07:42:29.842Z  0d56a730076643d585f77e00d2d8521a00000N   \n",
       "2  2018-11-08T07:42:29.845Z  0d56a730076643d585f77e00d2d8521a00000N   \n",
       "3  2018-11-08T07:42:29.845Z  0d56a730076643d585f77e00d2d8521a00000N   \n",
       "4  2018-11-08T07:43:13.957Z  0d56a730076643d585f77e00d2d8521a00000N   \n",
       "\n",
       "       eventName eventType                                            jobId  \\\n",
       "0         Tiling      STOP  1024-lvl12-7e026be3-5fd0-48ee-b7d1-abd61f747705   \n",
       "1  Saving Config     START  1024-lvl12-7e026be3-5fd0-48ee-b7d1-abd61f747705   \n",
       "2  Saving Config      STOP  1024-lvl12-7e026be3-5fd0-48ee-b7d1-abd61f747705   \n",
       "3         Render     START  1024-lvl12-7e026be3-5fd0-48ee-b7d1-abd61f747705   \n",
       "4    TotalRender      STOP  1024-lvl12-7e026be3-5fd0-48ee-b7d1-abd61f747705   \n",
       "\n",
       "                                 taskId  \n",
       "0  b47f0263-ba1c-48a7-8d29-4bf021b72043  \n",
       "1  20fb9fcf-a927-4a4b-a64c-70258b66b42d  \n",
       "2  20fb9fcf-a927-4a4b-a64c-70258b66b42d  \n",
       "3  20fb9fcf-a927-4a4b-a64c-70258b66b42d  \n",
       "4  20fb9fcf-a927-4a4b-a64c-70258b66b42d  "
      ]
     },
     "execution_count": 7,
     "metadata": {},
     "output_type": "execute_result"
    }
   ],
   "source": [
    "print(\"------------ ac ----------------\")\n",
    "ac.head()"
   ]
  },
  {
   "cell_type": "raw",
   "id": "0cf31897",
   "metadata": {},
   "source": [
    "It will be an easier analysis if all three dataframes combined into one, so lets attempt to do that. But as preprocessing needs to remove na entry."
   ]
  },
  {
   "cell_type": "code",
   "execution_count": 8,
   "id": "af499c6f",
   "metadata": {},
   "outputs": [],
   "source": [
    "# Dropping NA entries.\n",
    "\n",
    "ac.dropna(inplace=True)\n",
    "xy.dropna(inplace=True)\n",
    "gpu.dropna(inplace=True)"
   ]
  },
  {
   "cell_type": "raw",
   "id": "5b994286",
   "metadata": {},
   "source": [
    "\n",
    "Now as forementioned, Lets attempt to combine 3 data frames into one using merge()."
   ]
  },
  {
   "cell_type": "code",
   "execution_count": 10,
   "id": "acdbc74a",
   "metadata": {
    "scrolled": true
   },
   "outputs": [
    {
     "name": "stdout",
     "output_type": "stream",
     "text": [
      "Duplicate entried in  GPU : 9\n",
      "Duplicate entried in  Task-x-y : 0\n",
      "Duplicate entried in  Application-checkpoints : 2470\n"
     ]
    }
   ],
   "source": [
    "# Checking for any duplicate entries in the dataset for each data frames\n",
    "\n",
    "print(f\"Duplicate entried in  GPU : {gpu.duplicated().sum()}\")\n",
    "print(f\"Duplicate entried in  Task-x-y : {xy.duplicated().sum()}\")\n",
    "print(f\"Duplicate entried in  Application-checkpoints : {ac.duplicated().sum()}\")"
   ]
  },
  {
   "cell_type": "code",
   "execution_count": 11,
   "id": "cc5ba20d",
   "metadata": {},
   "outputs": [],
   "source": [
    "gpu.drop_duplicates(inplace=True)\n",
    "xy.drop_duplicates(inplace=True)\n",
    "ac.drop_duplicates(inplace=True)"
   ]
  },
  {
   "cell_type": "raw",
   "id": "ff0c29f6",
   "metadata": {},
   "source": [
    "Analyze the `eventName` column "
   ]
  },
  {
   "cell_type": "code",
   "execution_count": 34,
   "id": "7f16e9ce",
   "metadata": {
    "scrolled": true
   },
   "outputs": [
    {
     "data": {
      "text/html": [
       "<div>\n",
       "<style scoped>\n",
       "    .dataframe tbody tr th:only-of-type {\n",
       "        vertical-align: middle;\n",
       "    }\n",
       "\n",
       "    .dataframe tbody tr th {\n",
       "        vertical-align: top;\n",
       "    }\n",
       "\n",
       "    .dataframe thead th {\n",
       "        text-align: right;\n",
       "    }\n",
       "</style>\n",
       "<table border=\"1\" class=\"dataframe\">\n",
       "  <thead>\n",
       "    <tr style=\"text-align: right;\">\n",
       "      <th></th>\n",
       "      <th>eventName</th>\n",
       "      <th>JobCount</th>\n",
       "      <th>taskId</th>\n",
       "    </tr>\n",
       "  </thead>\n",
       "  <tbody>\n",
       "    <tr>\n",
       "      <th>0</th>\n",
       "      <td>Render</td>\n",
       "      <td>131586</td>\n",
       "      <td>131586</td>\n",
       "    </tr>\n",
       "    <tr>\n",
       "      <th>1</th>\n",
       "      <td>Saving Config</td>\n",
       "      <td>131586</td>\n",
       "      <td>131586</td>\n",
       "    </tr>\n",
       "    <tr>\n",
       "      <th>2</th>\n",
       "      <td>Tiling</td>\n",
       "      <td>131586</td>\n",
       "      <td>131586</td>\n",
       "    </tr>\n",
       "    <tr>\n",
       "      <th>3</th>\n",
       "      <td>TotalRender</td>\n",
       "      <td>131586</td>\n",
       "      <td>131586</td>\n",
       "    </tr>\n",
       "    <tr>\n",
       "      <th>4</th>\n",
       "      <td>Uploading</td>\n",
       "      <td>131586</td>\n",
       "      <td>131586</td>\n",
       "    </tr>\n",
       "  </tbody>\n",
       "</table>\n",
       "</div>"
      ],
      "text/plain": [
       "       eventName  JobCount  taskId\n",
       "0         Render    131586  131586\n",
       "1  Saving Config    131586  131586\n",
       "2         Tiling    131586  131586\n",
       "3    TotalRender    131586  131586\n",
       "4      Uploading    131586  131586"
      ]
     },
     "execution_count": 34,
     "metadata": {},
     "output_type": "execute_result"
    }
   ],
   "source": [
    "# Get the count of each eventName\n",
    "ac.groupby(by='eventName').count().reset_index()\\\n",
    "[['eventName', 'jobId', 'taskId']].rename(columns={'jobId': 'JobCount'})\n"
   ]
  },
  {
   "cell_type": "markdown",
   "id": "dba39a43",
   "metadata": {},
   "source": [
    "#MERGEING TABLE (REMOVE)"
   ]
  },
  {
   "cell_type": "raw",
   "id": "8ee5afef",
   "metadata": {},
   "source": [
    "# Merging 2 dataframes based on columns using join operation\n",
    "\n",
    "merged_table = xy.merge( ac, on=['jobId','taskId'], how='outer')\n",
    "\n",
    "merged_table.info()"
   ]
  },
  {
   "cell_type": "raw",
   "id": "ff5d6ade",
   "metadata": {},
   "source": [
    "Now attempting to combine the third dataframe to already existing  merged dataframes\n",
    "\n",
    "merged_table1 = ac.merge( gpu, on=['hostname'], how='outer')\n",
    "\n",
    "But, after multiple attempts kernel died, so instead of combining three dataframes, preferring to work in seperate data frames and combine them as and when required."
   ]
  },
  {
   "cell_type": "markdown",
   "id": "5477fe33",
   "metadata": {},
   "source": [
    "# Removing duplicate entries\n",
    "\n",
    "gpu.drop_duplicates(inplace=True)\n",
    "xy.drop_duplicates(inplace=True)\n",
    "ac.drop_duplicates(inplace=True)"
   ]
  },
  {
   "cell_type": "code",
   "execution_count": null,
   "id": "86182e91",
   "metadata": {},
   "outputs": [],
   "source": [
    "print(f\"Duplicate entried in  merged_table : {merged_table.duplicated().sum()}\")"
   ]
  },
  {
   "cell_type": "raw",
   "id": "68ee5bb9",
   "metadata": {},
   "source": [
    "merged_table.drop_duplicates(inplace=True)"
   ]
  },
  {
   "cell_type": "code",
   "execution_count": null,
   "id": "9418dc2a",
   "metadata": {},
   "outputs": [],
   "source": [
    "print(f\"Duplicate entried in  merged_table : {merged_table.duplicated().sum()}\")"
   ]
  },
  {
   "cell_type": "markdown",
   "id": "244a84f0",
   "metadata": {},
   "source": [
    "## Which event types dominate task runtimes?"
   ]
  },
  {
   "cell_type": "code",
   "execution_count": 12,
   "id": "a8f4f48b",
   "metadata": {},
   "outputs": [],
   "source": [
    "# Calculating runtime\n",
    "\n",
    "# Filter the DataFrame for start and stop events\n",
    "start_events = ac[ac['eventType'] == 'START']\n",
    "stop_events = ac[ac['eventType'] == 'STOP']\n"
   ]
  },
  {
   "cell_type": "code",
   "execution_count": 16,
   "id": "3ea59d39",
   "metadata": {},
   "outputs": [
    {
     "data": {
      "text/html": [
       "<div>\n",
       "<style scoped>\n",
       "    .dataframe tbody tr th:only-of-type {\n",
       "        vertical-align: middle;\n",
       "    }\n",
       "\n",
       "    .dataframe tbody tr th {\n",
       "        vertical-align: top;\n",
       "    }\n",
       "\n",
       "    .dataframe thead th {\n",
       "        text-align: right;\n",
       "    }\n",
       "</style>\n",
       "<table border=\"1\" class=\"dataframe\">\n",
       "  <thead>\n",
       "    <tr style=\"text-align: right;\">\n",
       "      <th></th>\n",
       "      <th>timestamp</th>\n",
       "      <th>hostname</th>\n",
       "      <th>eventName</th>\n",
       "      <th>eventType</th>\n",
       "      <th>jobId</th>\n",
       "      <th>taskId</th>\n",
       "    </tr>\n",
       "  </thead>\n",
       "  <tbody>\n",
       "    <tr>\n",
       "      <th>0</th>\n",
       "      <td>2018-11-08T07:41:55.921Z</td>\n",
       "      <td>0d56a730076643d585f77e00d2d8521a00000N</td>\n",
       "      <td>Tiling</td>\n",
       "      <td>STOP</td>\n",
       "      <td>1024-lvl12-7e026be3-5fd0-48ee-b7d1-abd61f747705</td>\n",
       "      <td>b47f0263-ba1c-48a7-8d29-4bf021b72043</td>\n",
       "    </tr>\n",
       "    <tr>\n",
       "      <th>2</th>\n",
       "      <td>2018-11-08T07:42:29.845Z</td>\n",
       "      <td>0d56a730076643d585f77e00d2d8521a00000N</td>\n",
       "      <td>Saving Config</td>\n",
       "      <td>STOP</td>\n",
       "      <td>1024-lvl12-7e026be3-5fd0-48ee-b7d1-abd61f747705</td>\n",
       "      <td>20fb9fcf-a927-4a4b-a64c-70258b66b42d</td>\n",
       "    </tr>\n",
       "    <tr>\n",
       "      <th>4</th>\n",
       "      <td>2018-11-08T07:43:13.957Z</td>\n",
       "      <td>0d56a730076643d585f77e00d2d8521a00000N</td>\n",
       "      <td>TotalRender</td>\n",
       "      <td>STOP</td>\n",
       "      <td>1024-lvl12-7e026be3-5fd0-48ee-b7d1-abd61f747705</td>\n",
       "      <td>20fb9fcf-a927-4a4b-a64c-70258b66b42d</td>\n",
       "    </tr>\n",
       "    <tr>\n",
       "      <th>5</th>\n",
       "      <td>2018-11-08T07:43:56.239Z</td>\n",
       "      <td>0d56a730076643d585f77e00d2d8521a00000N</td>\n",
       "      <td>Render</td>\n",
       "      <td>STOP</td>\n",
       "      <td>1024-lvl12-7e026be3-5fd0-48ee-b7d1-abd61f747705</td>\n",
       "      <td>3dd4840c-47f2-4dcc-a775-df2ef6498d71</td>\n",
       "    </tr>\n",
       "    <tr>\n",
       "      <th>7</th>\n",
       "      <td>2018-11-08T07:43:57.223Z</td>\n",
       "      <td>0d56a730076643d585f77e00d2d8521a00000N</td>\n",
       "      <td>Tiling</td>\n",
       "      <td>STOP</td>\n",
       "      <td>1024-lvl12-7e026be3-5fd0-48ee-b7d1-abd61f747705</td>\n",
       "      <td>3dd4840c-47f2-4dcc-a775-df2ef6498d71</td>\n",
       "    </tr>\n",
       "  </tbody>\n",
       "</table>\n",
       "</div>"
      ],
      "text/plain": [
       "                  timestamp                                hostname  \\\n",
       "0  2018-11-08T07:41:55.921Z  0d56a730076643d585f77e00d2d8521a00000N   \n",
       "2  2018-11-08T07:42:29.845Z  0d56a730076643d585f77e00d2d8521a00000N   \n",
       "4  2018-11-08T07:43:13.957Z  0d56a730076643d585f77e00d2d8521a00000N   \n",
       "5  2018-11-08T07:43:56.239Z  0d56a730076643d585f77e00d2d8521a00000N   \n",
       "7  2018-11-08T07:43:57.223Z  0d56a730076643d585f77e00d2d8521a00000N   \n",
       "\n",
       "       eventName eventType                                            jobId  \\\n",
       "0         Tiling      STOP  1024-lvl12-7e026be3-5fd0-48ee-b7d1-abd61f747705   \n",
       "2  Saving Config      STOP  1024-lvl12-7e026be3-5fd0-48ee-b7d1-abd61f747705   \n",
       "4    TotalRender      STOP  1024-lvl12-7e026be3-5fd0-48ee-b7d1-abd61f747705   \n",
       "5         Render      STOP  1024-lvl12-7e026be3-5fd0-48ee-b7d1-abd61f747705   \n",
       "7         Tiling      STOP  1024-lvl12-7e026be3-5fd0-48ee-b7d1-abd61f747705   \n",
       "\n",
       "                                 taskId  \n",
       "0  b47f0263-ba1c-48a7-8d29-4bf021b72043  \n",
       "2  20fb9fcf-a927-4a4b-a64c-70258b66b42d  \n",
       "4  20fb9fcf-a927-4a4b-a64c-70258b66b42d  \n",
       "5  3dd4840c-47f2-4dcc-a775-df2ef6498d71  \n",
       "7  3dd4840c-47f2-4dcc-a775-df2ef6498d71  "
      ]
     },
     "execution_count": 16,
     "metadata": {},
     "output_type": "execute_result"
    }
   ],
   "source": [
    "stop_events.head(5)"
   ]
  },
  {
   "cell_type": "code",
   "execution_count": 21,
   "id": "4d8341aa",
   "metadata": {
    "scrolled": true
   },
   "outputs": [
    {
     "data": {
      "text/html": [
       "<div>\n",
       "<style scoped>\n",
       "    .dataframe tbody tr th:only-of-type {\n",
       "        vertical-align: middle;\n",
       "    }\n",
       "\n",
       "    .dataframe tbody tr th {\n",
       "        vertical-align: top;\n",
       "    }\n",
       "\n",
       "    .dataframe thead th {\n",
       "        text-align: right;\n",
       "    }\n",
       "</style>\n",
       "<table border=\"1\" class=\"dataframe\">\n",
       "  <thead>\n",
       "    <tr style=\"text-align: right;\">\n",
       "      <th></th>\n",
       "      <th>timestamp_start</th>\n",
       "      <th>hostname_start</th>\n",
       "      <th>eventName</th>\n",
       "      <th>eventType_start</th>\n",
       "      <th>jobId</th>\n",
       "      <th>taskId</th>\n",
       "      <th>timestamp_stop</th>\n",
       "      <th>hostname_stop</th>\n",
       "      <th>eventType_stop</th>\n",
       "    </tr>\n",
       "  </thead>\n",
       "  <tbody>\n",
       "    <tr>\n",
       "      <th>0</th>\n",
       "      <td>2018-11-08T07:42:29.842Z</td>\n",
       "      <td>0d56a730076643d585f77e00d2d8521a00000N</td>\n",
       "      <td>Saving Config</td>\n",
       "      <td>START</td>\n",
       "      <td>1024-lvl12-7e026be3-5fd0-48ee-b7d1-abd61f747705</td>\n",
       "      <td>20fb9fcf-a927-4a4b-a64c-70258b66b42d</td>\n",
       "      <td>2018-11-08T07:42:29.845Z</td>\n",
       "      <td>0d56a730076643d585f77e00d2d8521a00000N</td>\n",
       "      <td>STOP</td>\n",
       "    </tr>\n",
       "    <tr>\n",
       "      <th>1</th>\n",
       "      <td>2018-11-08T07:42:29.845Z</td>\n",
       "      <td>0d56a730076643d585f77e00d2d8521a00000N</td>\n",
       "      <td>Render</td>\n",
       "      <td>START</td>\n",
       "      <td>1024-lvl12-7e026be3-5fd0-48ee-b7d1-abd61f747705</td>\n",
       "      <td>20fb9fcf-a927-4a4b-a64c-70258b66b42d</td>\n",
       "      <td>2018-11-08T07:43:10.965Z</td>\n",
       "      <td>0d56a730076643d585f77e00d2d8521a00000N</td>\n",
       "      <td>STOP</td>\n",
       "    </tr>\n",
       "    <tr>\n",
       "      <th>2</th>\n",
       "      <td>2018-11-08T07:43:56.239Z</td>\n",
       "      <td>0d56a730076643d585f77e00d2d8521a00000N</td>\n",
       "      <td>Uploading</td>\n",
       "      <td>START</td>\n",
       "      <td>1024-lvl12-7e026be3-5fd0-48ee-b7d1-abd61f747705</td>\n",
       "      <td>3dd4840c-47f2-4dcc-a775-df2ef6498d71</td>\n",
       "      <td>2018-11-08T07:43:57.245Z</td>\n",
       "      <td>0d56a730076643d585f77e00d2d8521a00000N</td>\n",
       "      <td>STOP</td>\n",
       "    </tr>\n",
       "    <tr>\n",
       "      <th>3</th>\n",
       "      <td>2018-11-08T07:44:47.555Z</td>\n",
       "      <td>0d56a730076643d585f77e00d2d8521a00000N</td>\n",
       "      <td>Saving Config</td>\n",
       "      <td>START</td>\n",
       "      <td>1024-lvl12-7e026be3-5fd0-48ee-b7d1-abd61f747705</td>\n",
       "      <td>c9e249d8-52ed-40c6-8713-b5cbf02ea87e</td>\n",
       "      <td>2018-11-08T07:44:47.557Z</td>\n",
       "      <td>0d56a730076643d585f77e00d2d8521a00000N</td>\n",
       "      <td>STOP</td>\n",
       "    </tr>\n",
       "    <tr>\n",
       "      <th>4</th>\n",
       "      <td>2018-11-08T07:47:38.457Z</td>\n",
       "      <td>0d56a730076643d585f77e00d2d8521a00000N</td>\n",
       "      <td>Uploading</td>\n",
       "      <td>START</td>\n",
       "      <td>1024-lvl12-7e026be3-5fd0-48ee-b7d1-abd61f747705</td>\n",
       "      <td>c8c93ada-22ea-4ca8-aa1b-9f9d4b89bfba</td>\n",
       "      <td>2018-11-08T07:47:39.357Z</td>\n",
       "      <td>0d56a730076643d585f77e00d2d8521a00000N</td>\n",
       "      <td>STOP</td>\n",
       "    </tr>\n",
       "  </tbody>\n",
       "</table>\n",
       "</div>"
      ],
      "text/plain": [
       "            timestamp_start                          hostname_start  \\\n",
       "0  2018-11-08T07:42:29.842Z  0d56a730076643d585f77e00d2d8521a00000N   \n",
       "1  2018-11-08T07:42:29.845Z  0d56a730076643d585f77e00d2d8521a00000N   \n",
       "2  2018-11-08T07:43:56.239Z  0d56a730076643d585f77e00d2d8521a00000N   \n",
       "3  2018-11-08T07:44:47.555Z  0d56a730076643d585f77e00d2d8521a00000N   \n",
       "4  2018-11-08T07:47:38.457Z  0d56a730076643d585f77e00d2d8521a00000N   \n",
       "\n",
       "       eventName eventType_start  \\\n",
       "0  Saving Config           START   \n",
       "1         Render           START   \n",
       "2      Uploading           START   \n",
       "3  Saving Config           START   \n",
       "4      Uploading           START   \n",
       "\n",
       "                                             jobId  \\\n",
       "0  1024-lvl12-7e026be3-5fd0-48ee-b7d1-abd61f747705   \n",
       "1  1024-lvl12-7e026be3-5fd0-48ee-b7d1-abd61f747705   \n",
       "2  1024-lvl12-7e026be3-5fd0-48ee-b7d1-abd61f747705   \n",
       "3  1024-lvl12-7e026be3-5fd0-48ee-b7d1-abd61f747705   \n",
       "4  1024-lvl12-7e026be3-5fd0-48ee-b7d1-abd61f747705   \n",
       "\n",
       "                                 taskId            timestamp_stop  \\\n",
       "0  20fb9fcf-a927-4a4b-a64c-70258b66b42d  2018-11-08T07:42:29.845Z   \n",
       "1  20fb9fcf-a927-4a4b-a64c-70258b66b42d  2018-11-08T07:43:10.965Z   \n",
       "2  3dd4840c-47f2-4dcc-a775-df2ef6498d71  2018-11-08T07:43:57.245Z   \n",
       "3  c9e249d8-52ed-40c6-8713-b5cbf02ea87e  2018-11-08T07:44:47.557Z   \n",
       "4  c8c93ada-22ea-4ca8-aa1b-9f9d4b89bfba  2018-11-08T07:47:39.357Z   \n",
       "\n",
       "                            hostname_stop eventType_stop  \n",
       "0  0d56a730076643d585f77e00d2d8521a00000N           STOP  \n",
       "1  0d56a730076643d585f77e00d2d8521a00000N           STOP  \n",
       "2  0d56a730076643d585f77e00d2d8521a00000N           STOP  \n",
       "3  0d56a730076643d585f77e00d2d8521a00000N           STOP  \n",
       "4  0d56a730076643d585f77e00d2d8521a00000N           STOP  "
      ]
     },
     "execution_count": 21,
     "metadata": {},
     "output_type": "execute_result"
    }
   ],
   "source": [
    "# Merge start and stop events based on jobId, taskId, and condition for positive runtime\n",
    "\n",
    "task_runtimes = start_events.merge(stop_events, on=['jobId', 'taskId', 'eventName'], suffixes=('_start', '_stop'))\n",
    "task_runtimes = task_runtimes[task_runtimes['timestamp_stop'] > task_runtimes['timestamp_start']]\n",
    "\n",
    "task_runtimes.head(5)"
   ]
  },
  {
   "cell_type": "code",
   "execution_count": 22,
   "id": "603894c7",
   "metadata": {
    "scrolled": true
   },
   "outputs": [
    {
     "data": {
      "text/html": [
       "<div>\n",
       "<style scoped>\n",
       "    .dataframe tbody tr th:only-of-type {\n",
       "        vertical-align: middle;\n",
       "    }\n",
       "\n",
       "    .dataframe tbody tr th {\n",
       "        vertical-align: top;\n",
       "    }\n",
       "\n",
       "    .dataframe thead th {\n",
       "        text-align: right;\n",
       "    }\n",
       "</style>\n",
       "<table border=\"1\" class=\"dataframe\">\n",
       "  <thead>\n",
       "    <tr style=\"text-align: right;\">\n",
       "      <th></th>\n",
       "      <th>timestamp_start</th>\n",
       "      <th>hostname_start</th>\n",
       "      <th>eventName</th>\n",
       "      <th>eventType_start</th>\n",
       "      <th>jobId</th>\n",
       "      <th>taskId</th>\n",
       "      <th>timestamp_stop</th>\n",
       "      <th>hostname_stop</th>\n",
       "      <th>eventType_stop</th>\n",
       "      <th>runtime</th>\n",
       "    </tr>\n",
       "  </thead>\n",
       "  <tbody>\n",
       "    <tr>\n",
       "      <th>0</th>\n",
       "      <td>2018-11-08T07:42:29.842Z</td>\n",
       "      <td>0d56a730076643d585f77e00d2d8521a00000N</td>\n",
       "      <td>Saving Config</td>\n",
       "      <td>START</td>\n",
       "      <td>1024-lvl12-7e026be3-5fd0-48ee-b7d1-abd61f747705</td>\n",
       "      <td>20fb9fcf-a927-4a4b-a64c-70258b66b42d</td>\n",
       "      <td>2018-11-08T07:42:29.845Z</td>\n",
       "      <td>0d56a730076643d585f77e00d2d8521a00000N</td>\n",
       "      <td>STOP</td>\n",
       "      <td>0 days 00:00:00.003000</td>\n",
       "    </tr>\n",
       "    <tr>\n",
       "      <th>1</th>\n",
       "      <td>2018-11-08T07:42:29.845Z</td>\n",
       "      <td>0d56a730076643d585f77e00d2d8521a00000N</td>\n",
       "      <td>Render</td>\n",
       "      <td>START</td>\n",
       "      <td>1024-lvl12-7e026be3-5fd0-48ee-b7d1-abd61f747705</td>\n",
       "      <td>20fb9fcf-a927-4a4b-a64c-70258b66b42d</td>\n",
       "      <td>2018-11-08T07:43:10.965Z</td>\n",
       "      <td>0d56a730076643d585f77e00d2d8521a00000N</td>\n",
       "      <td>STOP</td>\n",
       "      <td>0 days 00:00:41.120000</td>\n",
       "    </tr>\n",
       "    <tr>\n",
       "      <th>2</th>\n",
       "      <td>2018-11-08T07:43:56.239Z</td>\n",
       "      <td>0d56a730076643d585f77e00d2d8521a00000N</td>\n",
       "      <td>Uploading</td>\n",
       "      <td>START</td>\n",
       "      <td>1024-lvl12-7e026be3-5fd0-48ee-b7d1-abd61f747705</td>\n",
       "      <td>3dd4840c-47f2-4dcc-a775-df2ef6498d71</td>\n",
       "      <td>2018-11-08T07:43:57.245Z</td>\n",
       "      <td>0d56a730076643d585f77e00d2d8521a00000N</td>\n",
       "      <td>STOP</td>\n",
       "      <td>0 days 00:00:01.006000</td>\n",
       "    </tr>\n",
       "    <tr>\n",
       "      <th>3</th>\n",
       "      <td>2018-11-08T07:44:47.555Z</td>\n",
       "      <td>0d56a730076643d585f77e00d2d8521a00000N</td>\n",
       "      <td>Saving Config</td>\n",
       "      <td>START</td>\n",
       "      <td>1024-lvl12-7e026be3-5fd0-48ee-b7d1-abd61f747705</td>\n",
       "      <td>c9e249d8-52ed-40c6-8713-b5cbf02ea87e</td>\n",
       "      <td>2018-11-08T07:44:47.557Z</td>\n",
       "      <td>0d56a730076643d585f77e00d2d8521a00000N</td>\n",
       "      <td>STOP</td>\n",
       "      <td>0 days 00:00:00.002000</td>\n",
       "    </tr>\n",
       "    <tr>\n",
       "      <th>4</th>\n",
       "      <td>2018-11-08T07:47:38.457Z</td>\n",
       "      <td>0d56a730076643d585f77e00d2d8521a00000N</td>\n",
       "      <td>Uploading</td>\n",
       "      <td>START</td>\n",
       "      <td>1024-lvl12-7e026be3-5fd0-48ee-b7d1-abd61f747705</td>\n",
       "      <td>c8c93ada-22ea-4ca8-aa1b-9f9d4b89bfba</td>\n",
       "      <td>2018-11-08T07:47:39.357Z</td>\n",
       "      <td>0d56a730076643d585f77e00d2d8521a00000N</td>\n",
       "      <td>STOP</td>\n",
       "      <td>0 days 00:00:00.900000</td>\n",
       "    </tr>\n",
       "    <tr>\n",
       "      <th>5</th>\n",
       "      <td>2018-11-08T07:47:38.464Z</td>\n",
       "      <td>0d56a730076643d585f77e00d2d8521a00000N</td>\n",
       "      <td>Tiling</td>\n",
       "      <td>START</td>\n",
       "      <td>1024-lvl12-7e026be3-5fd0-48ee-b7d1-abd61f747705</td>\n",
       "      <td>c8c93ada-22ea-4ca8-aa1b-9f9d4b89bfba</td>\n",
       "      <td>2018-11-08T07:47:39.344Z</td>\n",
       "      <td>0d56a730076643d585f77e00d2d8521a00000N</td>\n",
       "      <td>STOP</td>\n",
       "      <td>0 days 00:00:00.880000</td>\n",
       "    </tr>\n",
       "    <tr>\n",
       "      <th>6</th>\n",
       "      <td>2018-11-08T07:49:41.858Z</td>\n",
       "      <td>0d56a730076643d585f77e00d2d8521a00000N</td>\n",
       "      <td>Tiling</td>\n",
       "      <td>START</td>\n",
       "      <td>1024-lvl12-7e026be3-5fd0-48ee-b7d1-abd61f747705</td>\n",
       "      <td>bce8d6bb-8cfe-475b-ae03-af28d1fac10a</td>\n",
       "      <td>2018-11-08T07:49:42.886Z</td>\n",
       "      <td>0d56a730076643d585f77e00d2d8521a00000N</td>\n",
       "      <td>STOP</td>\n",
       "      <td>0 days 00:00:01.028000</td>\n",
       "    </tr>\n",
       "    <tr>\n",
       "      <th>7</th>\n",
       "      <td>2018-11-08T08:03:09.698Z</td>\n",
       "      <td>0d56a730076643d585f77e00d2d8521a00000N</td>\n",
       "      <td>Saving Config</td>\n",
       "      <td>START</td>\n",
       "      <td>1024-lvl12-7e026be3-5fd0-48ee-b7d1-abd61f747705</td>\n",
       "      <td>fb8b9faa-be63-426c-9742-be30e5298f5b</td>\n",
       "      <td>2018-11-08T08:03:09.701Z</td>\n",
       "      <td>0d56a730076643d585f77e00d2d8521a00000N</td>\n",
       "      <td>STOP</td>\n",
       "      <td>0 days 00:00:00.003000</td>\n",
       "    </tr>\n",
       "    <tr>\n",
       "      <th>8</th>\n",
       "      <td>2018-11-08T08:03:42.209Z</td>\n",
       "      <td>0d56a730076643d585f77e00d2d8521a00000N</td>\n",
       "      <td>Tiling</td>\n",
       "      <td>START</td>\n",
       "      <td>1024-lvl12-7e026be3-5fd0-48ee-b7d1-abd61f747705</td>\n",
       "      <td>fb8b9faa-be63-426c-9742-be30e5298f5b</td>\n",
       "      <td>2018-11-08T08:03:43.060Z</td>\n",
       "      <td>0d56a730076643d585f77e00d2d8521a00000N</td>\n",
       "      <td>STOP</td>\n",
       "      <td>0 days 00:00:00.851000</td>\n",
       "    </tr>\n",
       "    <tr>\n",
       "      <th>9</th>\n",
       "      <td>2018-11-08T08:03:46.513Z</td>\n",
       "      <td>0d56a730076643d585f77e00d2d8521a00000N</td>\n",
       "      <td>Saving Config</td>\n",
       "      <td>START</td>\n",
       "      <td>1024-lvl12-7e026be3-5fd0-48ee-b7d1-abd61f747705</td>\n",
       "      <td>674ef19f-b3cb-4aa5-8980-f37cbbca324d</td>\n",
       "      <td>2018-11-08T08:03:46.515Z</td>\n",
       "      <td>0d56a730076643d585f77e00d2d8521a00000N</td>\n",
       "      <td>STOP</td>\n",
       "      <td>0 days 00:00:00.002000</td>\n",
       "    </tr>\n",
       "  </tbody>\n",
       "</table>\n",
       "</div>"
      ],
      "text/plain": [
       "            timestamp_start                          hostname_start  \\\n",
       "0  2018-11-08T07:42:29.842Z  0d56a730076643d585f77e00d2d8521a00000N   \n",
       "1  2018-11-08T07:42:29.845Z  0d56a730076643d585f77e00d2d8521a00000N   \n",
       "2  2018-11-08T07:43:56.239Z  0d56a730076643d585f77e00d2d8521a00000N   \n",
       "3  2018-11-08T07:44:47.555Z  0d56a730076643d585f77e00d2d8521a00000N   \n",
       "4  2018-11-08T07:47:38.457Z  0d56a730076643d585f77e00d2d8521a00000N   \n",
       "5  2018-11-08T07:47:38.464Z  0d56a730076643d585f77e00d2d8521a00000N   \n",
       "6  2018-11-08T07:49:41.858Z  0d56a730076643d585f77e00d2d8521a00000N   \n",
       "7  2018-11-08T08:03:09.698Z  0d56a730076643d585f77e00d2d8521a00000N   \n",
       "8  2018-11-08T08:03:42.209Z  0d56a730076643d585f77e00d2d8521a00000N   \n",
       "9  2018-11-08T08:03:46.513Z  0d56a730076643d585f77e00d2d8521a00000N   \n",
       "\n",
       "       eventName eventType_start  \\\n",
       "0  Saving Config           START   \n",
       "1         Render           START   \n",
       "2      Uploading           START   \n",
       "3  Saving Config           START   \n",
       "4      Uploading           START   \n",
       "5         Tiling           START   \n",
       "6         Tiling           START   \n",
       "7  Saving Config           START   \n",
       "8         Tiling           START   \n",
       "9  Saving Config           START   \n",
       "\n",
       "                                             jobId  \\\n",
       "0  1024-lvl12-7e026be3-5fd0-48ee-b7d1-abd61f747705   \n",
       "1  1024-lvl12-7e026be3-5fd0-48ee-b7d1-abd61f747705   \n",
       "2  1024-lvl12-7e026be3-5fd0-48ee-b7d1-abd61f747705   \n",
       "3  1024-lvl12-7e026be3-5fd0-48ee-b7d1-abd61f747705   \n",
       "4  1024-lvl12-7e026be3-5fd0-48ee-b7d1-abd61f747705   \n",
       "5  1024-lvl12-7e026be3-5fd0-48ee-b7d1-abd61f747705   \n",
       "6  1024-lvl12-7e026be3-5fd0-48ee-b7d1-abd61f747705   \n",
       "7  1024-lvl12-7e026be3-5fd0-48ee-b7d1-abd61f747705   \n",
       "8  1024-lvl12-7e026be3-5fd0-48ee-b7d1-abd61f747705   \n",
       "9  1024-lvl12-7e026be3-5fd0-48ee-b7d1-abd61f747705   \n",
       "\n",
       "                                 taskId            timestamp_stop  \\\n",
       "0  20fb9fcf-a927-4a4b-a64c-70258b66b42d  2018-11-08T07:42:29.845Z   \n",
       "1  20fb9fcf-a927-4a4b-a64c-70258b66b42d  2018-11-08T07:43:10.965Z   \n",
       "2  3dd4840c-47f2-4dcc-a775-df2ef6498d71  2018-11-08T07:43:57.245Z   \n",
       "3  c9e249d8-52ed-40c6-8713-b5cbf02ea87e  2018-11-08T07:44:47.557Z   \n",
       "4  c8c93ada-22ea-4ca8-aa1b-9f9d4b89bfba  2018-11-08T07:47:39.357Z   \n",
       "5  c8c93ada-22ea-4ca8-aa1b-9f9d4b89bfba  2018-11-08T07:47:39.344Z   \n",
       "6  bce8d6bb-8cfe-475b-ae03-af28d1fac10a  2018-11-08T07:49:42.886Z   \n",
       "7  fb8b9faa-be63-426c-9742-be30e5298f5b  2018-11-08T08:03:09.701Z   \n",
       "8  fb8b9faa-be63-426c-9742-be30e5298f5b  2018-11-08T08:03:43.060Z   \n",
       "9  674ef19f-b3cb-4aa5-8980-f37cbbca324d  2018-11-08T08:03:46.515Z   \n",
       "\n",
       "                            hostname_stop eventType_stop  \\\n",
       "0  0d56a730076643d585f77e00d2d8521a00000N           STOP   \n",
       "1  0d56a730076643d585f77e00d2d8521a00000N           STOP   \n",
       "2  0d56a730076643d585f77e00d2d8521a00000N           STOP   \n",
       "3  0d56a730076643d585f77e00d2d8521a00000N           STOP   \n",
       "4  0d56a730076643d585f77e00d2d8521a00000N           STOP   \n",
       "5  0d56a730076643d585f77e00d2d8521a00000N           STOP   \n",
       "6  0d56a730076643d585f77e00d2d8521a00000N           STOP   \n",
       "7  0d56a730076643d585f77e00d2d8521a00000N           STOP   \n",
       "8  0d56a730076643d585f77e00d2d8521a00000N           STOP   \n",
       "9  0d56a730076643d585f77e00d2d8521a00000N           STOP   \n",
       "\n",
       "                 runtime  \n",
       "0 0 days 00:00:00.003000  \n",
       "1 0 days 00:00:41.120000  \n",
       "2 0 days 00:00:01.006000  \n",
       "3 0 days 00:00:00.002000  \n",
       "4 0 days 00:00:00.900000  \n",
       "5 0 days 00:00:00.880000  \n",
       "6 0 days 00:00:01.028000  \n",
       "7 0 days 00:00:00.003000  \n",
       "8 0 days 00:00:00.851000  \n",
       "9 0 days 00:00:00.002000  "
      ]
     },
     "execution_count": 22,
     "metadata": {},
     "output_type": "execute_result"
    }
   ],
   "source": [
    "# Calculate the runtime for each task\n",
    "task_runtimes['runtime'] = pd.to_datetime(task_runtimes['timestamp_stop']) - pd.to_datetime(task_runtimes['timestamp_start'])\n",
    "task_runtimes.head(10)"
   ]
  },
  {
   "cell_type": "code",
   "execution_count": 25,
   "id": "0844b162",
   "metadata": {
    "scrolled": true
   },
   "outputs": [
    {
     "name": "stdout",
     "output_type": "stream",
     "text": [
      "count                       328965\n",
      "mean     0 days 00:00:17.236464368\n",
      "std      0 days 00:00:20.572214275\n",
      "min         0 days 00:00:00.002000\n",
      "25%         0 days 00:00:00.902000\n",
      "50%         0 days 00:00:01.066000\n",
      "75%         0 days 00:00:40.736000\n",
      "max         0 days 00:01:33.697000\n",
      "Name: runtime, dtype: object\n"
     ]
    }
   ],
   "source": [
    "print(task_runtimes['runtime'].describe())"
   ]
  },
  {
   "cell_type": "code",
   "execution_count": 26,
   "id": "2fc74ed3",
   "metadata": {},
   "outputs": [
    {
     "data": {
      "text/html": [
       "<div>\n",
       "<style scoped>\n",
       "    .dataframe tbody tr th:only-of-type {\n",
       "        vertical-align: middle;\n",
       "    }\n",
       "\n",
       "    .dataframe tbody tr th {\n",
       "        vertical-align: top;\n",
       "    }\n",
       "\n",
       "    .dataframe thead th {\n",
       "        text-align: right;\n",
       "    }\n",
       "</style>\n",
       "<table border=\"1\" class=\"dataframe\">\n",
       "  <thead>\n",
       "    <tr style=\"text-align: right;\">\n",
       "      <th></th>\n",
       "      <th>eventName</th>\n",
       "      <th>Total_runtime</th>\n",
       "    </tr>\n",
       "  </thead>\n",
       "  <tbody>\n",
       "    <tr>\n",
       "      <th>0</th>\n",
       "      <td>Render</td>\n",
       "      <td>31 days 09:06:52.389000</td>\n",
       "    </tr>\n",
       "    <tr>\n",
       "      <th>1</th>\n",
       "      <td>Saving Config</td>\n",
       "      <td>0 days 00:02:42.921000</td>\n",
       "    </tr>\n",
       "    <tr>\n",
       "      <th>2</th>\n",
       "      <td>Tiling</td>\n",
       "      <td>0 days 17:47:10.222000</td>\n",
       "    </tr>\n",
       "    <tr>\n",
       "      <th>3</th>\n",
       "      <td>TotalRender</td>\n",
       "      <td>32 days 10:38:16.178000</td>\n",
       "    </tr>\n",
       "    <tr>\n",
       "      <th>4</th>\n",
       "      <td>Uploading</td>\n",
       "      <td>1 days 01:28:11.791000</td>\n",
       "    </tr>\n",
       "  </tbody>\n",
       "</table>\n",
       "</div>"
      ],
      "text/plain": [
       "       eventName           Total_runtime\n",
       "0         Render 31 days 09:06:52.389000\n",
       "1  Saving Config  0 days 00:02:42.921000\n",
       "2         Tiling  0 days 17:47:10.222000\n",
       "3    TotalRender 32 days 10:38:16.178000\n",
       "4      Uploading  1 days 01:28:11.791000"
      ]
     },
     "execution_count": 26,
     "metadata": {},
     "output_type": "execute_result"
    }
   ],
   "source": [
    "# Get the sum of runtime for each eventName\n",
    "task_runtimes.groupby(by='eventName').sum().reset_index()\\\n",
    "[['eventName', 'runtime']].rename(columns={'runtime': 'Total_runtime'})\n"
   ]
  },
  {
   "cell_type": "code",
   "execution_count": 27,
   "id": "90eb9951",
   "metadata": {},
   "outputs": [
    {
     "name": "stderr",
     "output_type": "stream",
     "text": [
      "/var/folders/50/bwnknb495bn9xjf36lgd79h00000gn/T/ipykernel_29608/1431676949.py:2: FutureWarning: Dropping invalid columns in DataFrameGroupBy.mean is deprecated. In a future version, a TypeError will be raised. Before calling .mean, select only columns which should be valid for the function.\n",
      "  task_runtimes.groupby(by='eventName').mean().reset_index()\\\n"
     ]
    },
    {
     "data": {
      "text/html": [
       "<div>\n",
       "<style scoped>\n",
       "    .dataframe tbody tr th:only-of-type {\n",
       "        vertical-align: middle;\n",
       "    }\n",
       "\n",
       "    .dataframe tbody tr th {\n",
       "        vertical-align: top;\n",
       "    }\n",
       "\n",
       "    .dataframe thead th {\n",
       "        text-align: right;\n",
       "    }\n",
       "</style>\n",
       "<table border=\"1\" class=\"dataframe\">\n",
       "  <thead>\n",
       "    <tr style=\"text-align: right;\">\n",
       "      <th></th>\n",
       "      <th>eventName</th>\n",
       "      <th>Avg_runtime</th>\n",
       "    </tr>\n",
       "  </thead>\n",
       "  <tbody>\n",
       "    <tr>\n",
       "      <th>0</th>\n",
       "      <td>Render</td>\n",
       "      <td>0 days 00:00:41.208219552</td>\n",
       "    </tr>\n",
       "    <tr>\n",
       "      <th>1</th>\n",
       "      <td>Saving Config</td>\n",
       "      <td>0 days 00:00:00.002476266</td>\n",
       "    </tr>\n",
       "    <tr>\n",
       "      <th>2</th>\n",
       "      <td>Tiling</td>\n",
       "      <td>0 days 00:00:00.973207210</td>\n",
       "    </tr>\n",
       "    <tr>\n",
       "      <th>3</th>\n",
       "      <td>TotalRender</td>\n",
       "      <td>0 days 00:00:42.604778289</td>\n",
       "    </tr>\n",
       "    <tr>\n",
       "      <th>4</th>\n",
       "      <td>Uploading</td>\n",
       "      <td>0 days 00:00:01.393640524</td>\n",
       "    </tr>\n",
       "  </tbody>\n",
       "</table>\n",
       "</div>"
      ],
      "text/plain": [
       "       eventName               Avg_runtime\n",
       "0         Render 0 days 00:00:41.208219552\n",
       "1  Saving Config 0 days 00:00:00.002476266\n",
       "2         Tiling 0 days 00:00:00.973207210\n",
       "3    TotalRender 0 days 00:00:42.604778289\n",
       "4      Uploading 0 days 00:00:01.393640524"
      ]
     },
     "execution_count": 27,
     "metadata": {},
     "output_type": "execute_result"
    }
   ],
   "source": [
    "# Get the mean of runtime for each eventName\n",
    "task_runtimes.groupby(by='eventName').mean().reset_index()\\\n",
    "[['eventName', 'runtime']].rename(columns={'runtime': 'Avg_runtime'})\n"
   ]
  },
  {
   "cell_type": "raw",
   "id": "068b7cb7",
   "metadata": {},
   "source": [
    "Thus from the above result we can conclude that TotalRender dominates the RUNTIME followed by RENDER, UPLOADING, TILLING and SAVING CONFIG."
   ]
  },
  {
   "cell_type": "code",
   "execution_count": 32,
   "id": "c1642b6b",
   "metadata": {
    "scrolled": false
   },
   "outputs": [
    {
     "data": {
      "image/png": "[encoded data removed]",
      "text/plain": [
       "<Figure size 640x480 with 1 Axes>"
      ]
     },
     "metadata": {},
     "output_type": "display_data"
    },
    {
     "data": {
      "image/png": "[encoded data removed]",
      "text/plain": [
       "<Figure size 640x480 with 1 Axes>"
      ]
     },
     "metadata": {},
     "output_type": "display_data"
    }
   ],
   "source": [
    "# Calculate the mean and sum of runtime for each eventName \n",
    "runtime_stats = task_runtimes.groupby('eventName')['runtime'].agg(['mean', 'sum'])\n",
    "\n",
    "# Plotting the bar graph for mean values\n",
    "plt.bar(runtime_stats.index, runtime_stats['mean'], color='blue')\n",
    "plt.title(\"Mean of Runtime by Event Name\")\n",
    "plt.xlabel(\"Event Name\")\n",
    "plt.ylabel(\"Mean Runtime\")\n",
    "plt.show()\n",
    "\n",
    "# Plotting the bar graph for sum values\n",
    "plt.bar(runtime_stats.index, runtime_stats['sum'], color='pink')\n",
    "plt.title(\"Sum of Runtime by Event Name\")\n",
    "plt.xlabel(\"Event Name\")\n",
    "plt.ylabel(\"Sum Runtime\")\n",
    "plt.show()\n"
   ]
  },
  {
   "cell_type": "markdown",
   "id": "6b98ebfa",
   "metadata": {},
   "source": [
    " So from  the above barplot it is very much clear that \"Render\" event dominates task runtimes.\n",
    "### CONCLUSION : That means in the  overall of the total runtime i.e. Total render, \"Render\" gains the maximum runtimes. And thus to improve performance the focus can be done on Render stage of the event."
   ]
  },
  {
   "cell_type": "markdown",
   "id": "fa46becb",
   "metadata": {},
   "source": [
    " So from  the above barplot it is very much clear that \"Render\" event dominates task runtimes.\n",
    "### CONCLUSION : That means in the  overall of the total runtime i.e. Total render, \"Render\" gains the maximum runtimes. And thus to improve performance the focus can be done on Render stage of the event.TotalRender has the maximun runtime. but it can also indicate that "
   ]
  },
  {
   "cell_type": "markdown",
   "id": "3ccd44c0",
   "metadata": {},
   "source": [
    "Study the metrics in the `gpu.csv` file such as `powerDrawWatt`, `gpuTempC`, `gpuUtilPerc`, and `gpuMemUtilPerc` to understand the interplay between GPU temperature, power draw, and performance. Visualize the relationships between these variables using scatter plots or line plots"
   ]
  },
  {
   "cell_type": "markdown",
   "id": "9732423c",
   "metadata": {},
   "source": [
    "## GOAL 2 : What is the interplay between GPU temperature and performance?"
   ]
  },
  {
   "cell_type": "code",
   "execution_count": 39,
   "id": "f9815b35",
   "metadata": {
    "scrolled": true
   },
   "outputs": [
    {
     "data": {
      "image/png": "[encoded data removed]",
      "text/plain": [
       "<Figure size 640x480 with 1 Axes>"
      ]
     },
     "metadata": {},
     "output_type": "display_data"
    }
   ],
   "source": [
    "# Convert the timestamp column to datetime data type\n",
    "gpu['timestamp'] = pd.to_datetime(gpu['timestamp'])\n",
    "\n",
    "# Plot scatter plot: GPU Temperature vs Power Draw\n",
    "plt.scatter(gpu['gpuTempC'], gpu['powerDrawWatt'])\n",
    "plt.xlabel('GPU Temperature (C)')\n",
    "plt.ylabel('Power Draw (Watt)')\n",
    "plt.title('GPU Temperature vs Power Draw')\n",
    "plt.show()\n"
   ]
  },
  {
   "cell_type": "code",
   "execution_count": 42,
   "id": "7d34688c",
   "metadata": {},
   "outputs": [
    {
     "data": {
      "image/png": "[encoded data removed]",
      "text/plain": [
       "<Figure size 640x480 with 1 Axes>"
      ]
     },
     "metadata": {},
     "output_type": "display_data"
    }
   ],
   "source": [
    "# Plot scatter plot: GPU Temperature vs GPU Utilization\n",
    "plt.scatter(gpu['gpuTempC'], gpu['gpuUtilPerc'])\n",
    "plt.xlabel('GPU Temperature (C)')\n",
    "plt.ylabel('GPU Utilization (%)')\n",
    "plt.title('GPU Temperature vs GPU Utilization')\n",
    "plt.show()"
   ]
  },
  {
   "cell_type": "code",
   "execution_count": 44,
   "id": "148d7c46",
   "metadata": {},
   "outputs": [
    {
     "data": {
      "image/png": "[encoded data removed]",
      "text/plain": [
       "<Figure size 640x480 with 1 Axes>"
      ]
     },
     "metadata": {},
     "output_type": "display_data"
    }
   ],
   "source": [
    "# Plot scatter plot: Power Draw vs GPU Utilization\n",
    "plt.scatter(gpu['powerDrawWatt'], gpu['gpuUtilPerc'])\n",
    "plt.xlabel('Power Draw (Watt)')\n",
    "plt.ylabel('GPU Utilization (%)')\n",
    "plt.title('Power Draw vs GPU Utilization')\n",
    "plt.show()"
   ]
  },
  {
   "cell_type": "code",
   "execution_count": 47,
   "id": "ec783e0c",
   "metadata": {},
   "outputs": [
    {
     "data": {
      "image/png": "[encoded data removed]",
      "text/plain": [
       "<Figure size 640x480 with 1 Axes>"
      ]
     },
     "metadata": {},
     "output_type": "display_data"
    }
   ],
   "source": [
    "# Plot line plot: GPU Memory Utilization over time\n",
    "plt.plot(gpu['timestamp'], gpu['gpuMemUtilPerc'])\n",
    "plt.xlabel('Timestamp')\n",
    "plt.ylabel('GPU Memory Utilization (%)')\n",
    "plt.title('GPU Memory Utilization over Time')\n",
    "plt.xticks(rotation=45)\n",
    "plt.show()"
   ]
  },
  {
   "cell_type": "code",
   "execution_count": null,
   "id": "b4d57fde",
   "metadata": {},
   "outputs": [],
   "source": []
  }
 ],
 "metadata": {
  "kernelspec": {
   "display_name": "Python 3 (ipykernel)",
   "language": "python",
   "name": "python3"
  },
  "language_info": {
   "codemirror_mode": {
    "name": "ipython",
    "version": 3
   },
   "file_extension": ".py",
   "mimetype": "text/x-python",
   "name": "python",
   "nbconvert_exporter": "python",
   "pygments_lexer": "ipython3",
   "version": "3.9.13"
  }
 },
 "nbformat": 4,
 "nbformat_minor": 5
}
